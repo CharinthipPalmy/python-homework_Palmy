{
 "cells": [
  {
   "cell_type": "code",
   "execution_count": 3,
   "id": "dc2548db-a30e-458d-9976-03c873d02ff6",
   "metadata": {
    "tags": []
   },
   "outputs": [],
   "source": [
    "import pandas as pd\n",
    "from pathlib import Path"
   ]
  },
  {
   "cell_type": "code",
   "execution_count": 4,
   "id": "cc2ddb21-e9c4-40e6-ac35-20e5c1e86dfa",
   "metadata": {
    "tags": []
   },
   "outputs": [],
   "source": [
    "csvpath = Path(\"../python-homework_Palmy/budget_data.csv\")"
   ]
  },
  {
   "cell_type": "code",
   "execution_count": 5,
   "id": "dc385765-4355-4900-ae76-dc1b1f73e386",
   "metadata": {
    "tags": []
   },
   "outputs": [
    {
     "data": {
      "text/html": [
       "<div>\n",
       "<style scoped>\n",
       "    .dataframe tbody tr th:only-of-type {\n",
       "        vertical-align: middle;\n",
       "    }\n",
       "\n",
       "    .dataframe tbody tr th {\n",
       "        vertical-align: top;\n",
       "    }\n",
       "\n",
       "    .dataframe thead th {\n",
       "        text-align: right;\n",
       "    }\n",
       "</style>\n",
       "<table border=\"1\" class=\"dataframe\">\n",
       "  <thead>\n",
       "    <tr style=\"text-align: right;\">\n",
       "      <th></th>\n",
       "      <th>Date</th>\n",
       "      <th>Profit/Losses</th>\n",
       "    </tr>\n",
       "  </thead>\n",
       "  <tbody>\n",
       "    <tr>\n",
       "      <th>0</th>\n",
       "      <td>Jan-2010</td>\n",
       "      <td>867884</td>\n",
       "    </tr>\n",
       "    <tr>\n",
       "      <th>1</th>\n",
       "      <td>Feb-2010</td>\n",
       "      <td>984655</td>\n",
       "    </tr>\n",
       "    <tr>\n",
       "      <th>2</th>\n",
       "      <td>Mar-2010</td>\n",
       "      <td>322013</td>\n",
       "    </tr>\n",
       "    <tr>\n",
       "      <th>3</th>\n",
       "      <td>Apr-2010</td>\n",
       "      <td>-69417</td>\n",
       "    </tr>\n",
       "    <tr>\n",
       "      <th>4</th>\n",
       "      <td>May-2010</td>\n",
       "      <td>310503</td>\n",
       "    </tr>\n",
       "    <tr>\n",
       "      <th>...</th>\n",
       "      <td>...</td>\n",
       "      <td>...</td>\n",
       "    </tr>\n",
       "    <tr>\n",
       "      <th>81</th>\n",
       "      <td>Oct-2016</td>\n",
       "      <td>102685</td>\n",
       "    </tr>\n",
       "    <tr>\n",
       "      <th>82</th>\n",
       "      <td>Nov-2016</td>\n",
       "      <td>795914</td>\n",
       "    </tr>\n",
       "    <tr>\n",
       "      <th>83</th>\n",
       "      <td>Dec-2016</td>\n",
       "      <td>60988</td>\n",
       "    </tr>\n",
       "    <tr>\n",
       "      <th>84</th>\n",
       "      <td>Jan-2017</td>\n",
       "      <td>138230</td>\n",
       "    </tr>\n",
       "    <tr>\n",
       "      <th>85</th>\n",
       "      <td>Feb-2017</td>\n",
       "      <td>671099</td>\n",
       "    </tr>\n",
       "  </tbody>\n",
       "</table>\n",
       "<p>86 rows × 2 columns</p>\n",
       "</div>"
      ],
      "text/plain": [
       "        Date  Profit/Losses\n",
       "0   Jan-2010         867884\n",
       "1   Feb-2010         984655\n",
       "2   Mar-2010         322013\n",
       "3   Apr-2010         -69417\n",
       "4   May-2010         310503\n",
       "..       ...            ...\n",
       "81  Oct-2016         102685\n",
       "82  Nov-2016         795914\n",
       "83  Dec-2016          60988\n",
       "84  Jan-2017         138230\n",
       "85  Feb-2017         671099\n",
       "\n",
       "[86 rows x 2 columns]"
      ]
     },
     "execution_count": 5,
     "metadata": {},
     "output_type": "execute_result"
    }
   ],
   "source": [
    "budget_dataframe = pd.read_csv(csvpath)\n",
    "budget_dataframe"
   ]
  },
  {
   "cell_type": "code",
   "execution_count": 6,
   "id": "c6367fe3-8b39-4b2a-8c92-2bd063c03395",
   "metadata": {
    "tags": []
   },
   "outputs": [
    {
     "data": {
      "text/html": [
       "<div>\n",
       "<style scoped>\n",
       "    .dataframe tbody tr th:only-of-type {\n",
       "        vertical-align: middle;\n",
       "    }\n",
       "\n",
       "    .dataframe tbody tr th {\n",
       "        vertical-align: top;\n",
       "    }\n",
       "\n",
       "    .dataframe thead th {\n",
       "        text-align: right;\n",
       "    }\n",
       "</style>\n",
       "<table border=\"1\" class=\"dataframe\">\n",
       "  <thead>\n",
       "    <tr style=\"text-align: right;\">\n",
       "      <th></th>\n",
       "      <th>Date</th>\n",
       "      <th>Profit/Losses</th>\n",
       "    </tr>\n",
       "  </thead>\n",
       "  <tbody>\n",
       "    <tr>\n",
       "      <th>0</th>\n",
       "      <td>Jan-2010</td>\n",
       "      <td>867884</td>\n",
       "    </tr>\n",
       "    <tr>\n",
       "      <th>1</th>\n",
       "      <td>Feb-2010</td>\n",
       "      <td>984655</td>\n",
       "    </tr>\n",
       "    <tr>\n",
       "      <th>2</th>\n",
       "      <td>Mar-2010</td>\n",
       "      <td>322013</td>\n",
       "    </tr>\n",
       "    <tr>\n",
       "      <th>3</th>\n",
       "      <td>Apr-2010</td>\n",
       "      <td>-69417</td>\n",
       "    </tr>\n",
       "    <tr>\n",
       "      <th>4</th>\n",
       "      <td>May-2010</td>\n",
       "      <td>310503</td>\n",
       "    </tr>\n",
       "  </tbody>\n",
       "</table>\n",
       "</div>"
      ],
      "text/plain": [
       "       Date  Profit/Losses\n",
       "0  Jan-2010         867884\n",
       "1  Feb-2010         984655\n",
       "2  Mar-2010         322013\n",
       "3  Apr-2010         -69417\n",
       "4  May-2010         310503"
      ]
     },
     "execution_count": 6,
     "metadata": {},
     "output_type": "execute_result"
    }
   ],
   "source": [
    "budget_dataframe.head()"
   ]
  },
  {
   "cell_type": "code",
   "execution_count": 7,
   "id": "d92d5432-1a43-434d-91fe-1825c9af9e27",
   "metadata": {
    "tags": []
   },
   "outputs": [
    {
     "data": {
      "text/plain": [
       "86"
      ]
     },
     "execution_count": 7,
     "metadata": {},
     "output_type": "execute_result"
    }
   ],
   "source": [
    "Total_months = budget_dataframe['Date'].count()\n",
    "Total_months"
   ]
  },
  {
   "cell_type": "code",
   "execution_count": 8,
   "id": "0360d5ea-eb9a-4362-ae99-f5f311380ede",
   "metadata": {
    "tags": []
   },
   "outputs": [
    {
     "data": {
      "text/plain": [
       "38382578"
      ]
     },
     "execution_count": 8,
     "metadata": {},
     "output_type": "execute_result"
    }
   ],
   "source": [
    "Total_pnl = budget_dataframe['Profit/Losses'].sum()\n",
    "Total_pnl"
   ]
  },
  {
   "cell_type": "code",
   "execution_count": 9,
   "id": "d679d2e2-6479-4010-8fb5-d6eb90a42a76",
   "metadata": {
    "tags": []
   },
   "outputs": [
    {
     "data": {
      "text/plain": [
       "86"
      ]
     },
     "execution_count": 9,
     "metadata": {},
     "output_type": "execute_result"
    }
   ],
   "source": [
    "Pnl_List = budget_dataframe['Profit/Losses'].tolist()\n",
    "len(Pnl_List)"
   ]
  },
  {
   "cell_type": "code",
   "execution_count": 10,
   "id": "74d4614c-bce5-489e-a991-1828ae37d90c",
   "metadata": {
    "tags": []
   },
   "outputs": [],
   "source": [
    "average_change_list = []\n",
    "average_change_list_org = []"
   ]
  },
  {
   "cell_type": "code",
   "execution_count": 11,
   "id": "f11b5f4b-6887-4f0b-a948-f7d8591c1936",
   "metadata": {
    "tags": []
   },
   "outputs": [
    {
     "data": {
      "text/plain": [
       "-2315.1176470588234"
      ]
     },
     "execution_count": 11,
     "metadata": {},
     "output_type": "execute_result"
    }
   ],
   "source": [
    "for i in range(1,len(Pnl_List)):\n",
    "    average_change = Pnl_List[i] - Pnl_List[i-1]\n",
    "    average_change_list.append(average_change)\n",
    "    average_change_list_org.append(average_change)\n",
    "    average_change = sum(average_change_list) / len(average_change_list)\n",
    "average_change"
   ]
  },
  {
   "cell_type": "code",
   "execution_count": 12,
   "id": "837b0ba7-836f-4fb2-8dc4-2fab2e0ed423",
   "metadata": {
    "tags": []
   },
   "outputs": [],
   "source": [
    "average_change_list.sort()"
   ]
  },
  {
   "cell_type": "code",
   "execution_count": 13,
   "id": "8a8a39a0-24ad-4b0d-8179-8f085fb82624",
   "metadata": {
    "tags": []
   },
   "outputs": [],
   "source": [
    "greatest_decrease = average_change_list[0]\n",
    "greatest_increase = average_change_list[len(average_change_list)-1]"
   ]
  },
  {
   "cell_type": "code",
   "execution_count": 14,
   "id": "5cd1567f-1226-42ba-8aae-007f17616ebe",
   "metadata": {
    "tags": []
   },
   "outputs": [],
   "source": [
    "minimum = average_change_list_org.index(greatest_decrease) + 1\n",
    "maximum = average_change_list_org.index(greatest_increase) + 1"
   ]
  },
  {
   "cell_type": "code",
   "execution_count": 15,
   "id": "b451daf3-4559-4ceb-9847-771664de7c1a",
   "metadata": {
    "tags": []
   },
   "outputs": [],
   "source": [
    "Greatest_Increase_Profits = budget_dataframe['Date'][maximum]\n",
    "Greatest_Decrease_Profits = budget_dataframe['Date'][minimum]"
   ]
  },
  {
   "cell_type": "code",
   "execution_count": 16,
   "id": "adf476ee-099d-4ca3-b62f-7cd585f62d0b",
   "metadata": {
    "tags": []
   },
   "outputs": [
    {
     "data": {
      "text/plain": [
       "'Sep-2013'"
      ]
     },
     "execution_count": 16,
     "metadata": {},
     "output_type": "execute_result"
    }
   ],
   "source": [
    "\n",
    "Greatest_Decrease_Profits"
   ]
  },
  {
   "cell_type": "code",
   "execution_count": 17,
   "id": "63de96e3-5bfb-4768-a9b5-e3071febfadb",
   "metadata": {
    "tags": []
   },
   "outputs": [
    {
     "data": {
      "text/plain": [
       "'Feb-2012'"
      ]
     },
     "execution_count": 17,
     "metadata": {},
     "output_type": "execute_result"
    }
   ],
   "source": [
    "Greatest_Increase_Profits"
   ]
  },
  {
   "cell_type": "code",
   "execution_count": 22,
   "id": "2e7de8b6-f205-41a1-a35d-3933ade59ef4",
   "metadata": {
    "tags": []
   },
   "outputs": [
    {
     "name": "stdout",
     "output_type": "stream",
     "text": [
      "Financial Analysis\n",
      "----------------------------\n",
      "Total Months: 86\n",
      "Total Profit/Losses: $38382578\n",
      "Average Change: -2315.1176470588234\n",
      "Greatest Increase in Profits: ('Feb-2012', 1926159)\n",
      "Greatest Decrease in Losses: ('Sep-2013', -2196167)\n"
     ]
    }
   ],
   "source": [
    "print(\"Financial Analysis\")\n",
    "print(\"----------------------------\")\n",
    "print(f\"Total Months: {Total_months}\")\n",
    "print(f\"Total Profit/Losses: ${Total_pnl}\")\n",
    "print(f\"Average Change: {average_change}\")\n",
    "print(f\"Greatest Increase in Profits: {Greatest_Increase_Profits,greatest_increase}\")\n",
    "print(f\"Greatest Decrease in Losses: {Greatest_Decrease_Profits,greatest_decrease}\")"
   ]
  },
  {
   "cell_type": "code",
   "execution_count": 58,
   "id": "bf395087-8e56-4339-b20b-fdb503b3ca8c",
   "metadata": {
    "tags": []
   },
   "outputs": [],
   "source": [
    "with open(output_path, 'w') as file:\n",
    "    file.write(\"This is the output file\\n\")\n",
    "    file.write(\"main.ipynb\")\n",
    "    file.write(\"Financial Analysis\")\n",
    "    file.write(\"Total Months: 86\")\n",
    "    file.write(\"Total Profit/Losses: $38382578\")\n",
    "    file.write(\"Average Change: -2315.1176470588234\")\n",
    "    file.write(\"Greatest Increase in Profits: ('Feb-2012', 1926159)\")\n",
    "    file.write(\"Greatest Decrease in Losses: ('Sep-2013', -2196167)\")"
   ]
  },
  {
   "cell_type": "code",
   "execution_count": 59,
   "id": "8b492772-d51b-416f-8ba2-9f04b93242a1",
   "metadata": {},
   "outputs": [],
   "source": [
    "output_path = Path(\"output.txt\")"
   ]
  },
  {
   "cell_type": "code",
   "execution_count": 60,
   "id": "c3759942-e89c-4dbe-90f9-5a3a4708638b",
   "metadata": {
    "tags": []
   },
   "outputs": [
    {
     "data": {
      "text/plain": [
       "PosixPath('/Users/bpalmy/Desktop/python-homework_Palmy')"
      ]
     },
     "execution_count": 60,
     "metadata": {},
     "output_type": "execute_result"
    }
   ],
   "source": [
    "Path.cwd()"
   ]
  },
  {
   "cell_type": "code",
   "execution_count": null,
   "id": "6c0a802f-f701-460b-8511-0b1f67099213",
   "metadata": {},
   "outputs": [],
   "source": []
  }
 ],
 "metadata": {
  "kernelspec": {
   "display_name": "Python 3 (ipykernel)",
   "language": "python",
   "name": "python3"
  },
  "language_info": {
   "codemirror_mode": {
    "name": "ipython",
    "version": 3
   },
   "file_extension": ".py",
   "mimetype": "text/x-python",
   "name": "python",
   "nbconvert_exporter": "python",
   "pygments_lexer": "ipython3",
   "version": "3.10.11"
  }
 },
 "nbformat": 4,
 "nbformat_minor": 5
}
